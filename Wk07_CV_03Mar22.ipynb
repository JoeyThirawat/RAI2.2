{
  "nbformat": 4,
  "nbformat_minor": 0,
  "metadata": {
    "colab": {
      "name": "Wk07-CV-03Mar22.ipynb",
      "provenance": [],
      "collapsed_sections": [],
      "mount_file_id": "1GAmMbjzc23NHBpWG9KRxF_4Wr4HUL_HI",
      "authorship_tag": "ABX9TyPPH/alSK630ubeRUnbW+QS",
      "include_colab_link": true
    },
    "kernelspec": {
      "name": "python3",
      "display_name": "Python 3"
    },
    "language_info": {
      "name": "python"
    }
  },
  "cells": [
    {
      "cell_type": "markdown",
      "metadata": {
        "id": "view-in-github",
        "colab_type": "text"
      },
      "source": [
        "<a href=\"https://colab.research.google.com/github/JoeyThirawat/RAI2.2-ComputerVisions/blob/main/Wk07_CV_03Mar22.ipynb\" target=\"_parent\"><img src=\"https://colab.research.google.com/assets/colab-badge.svg\" alt=\"Open In Colab\"/></a>"
      ]
    },
    {
      "cell_type": "code",
      "execution_count": 9,
      "metadata": {
        "id": "4QXPedRrsFBf"
      },
      "outputs": [],
      "source": [
        "# Week07-Computer Visions-02 March 2022\n",
        "\n",
        "import cv2\n",
        "import numpy as np\n",
        "import matplotlib.pyplot as plt"
      ]
    },
    {
      "cell_type": "code",
      "source": [
        "url = '/content/drive/MyDrive/dataset/contour.png'\n",
        "img = cv2.imread (url)\n",
        "rgb = cv2.cvtColor(img,cv2.COLOR_BGR2RGB) \n",
        "gray = cv2.cvtColor(img,cv2.COLOR_BGR2GRAY)\n",
        "ret, bw = cv2.threshold(gray, 100,255, cv2.THRESH_BINARY)\n",
        "plt.imshow(bw, cmap='gray')"
      ],
      "metadata": {
        "id": "kK2IGfAGuCh3",
        "colab": {
          "base_uri": "https://localhost:8080/",
          "height": 258
        },
        "outputId": "cbc45182-9be1-4570-8a0d-ef405905f036"
      },
      "execution_count": 10,
      "outputs": [
        {
          "output_type": "execute_result",
          "data": {
            "text/plain": [
              "<matplotlib.image.AxesImage at 0x7f65e94b5250>"
            ]
          },
          "metadata": {},
          "execution_count": 10
        },
        {
          "output_type": "display_data",
          "data": {
            "image/png": "[encoded data removed]",
            "text/plain": [
              "<Figure size 432x288 with 1 Axes>"
            ]
          },
          "metadata": {
            "needs_background": "light"
          }
        }
      ]
    },
    {
      "cell_type": "code",
      "source": [
        "# LIST\n",
        "img2 = rgb.copy()\n",
        "contours, hira = cv2.findContours (bw, cv2. RETR_LIST, cv2.CHAIN_APPROX_NONE)\n",
        "print(len(contours))\n",
        "i = 7 # 0-7\n",
        "cv2.drawContours (img2, contours, i, (0, 255,0), thickness = 2)\n",
        "plt.imshow(img2)"
      ],
      "metadata": {
        "colab": {
          "base_uri": "https://localhost:8080/",
          "height": 276
        },
        "id": "9Xhou8IH5R2y",
        "outputId": "5de5b37a-270d-49fd-9ca5-a74054a2bf15"
      },
      "execution_count": 11,
      "outputs": [
        {
          "output_type": "stream",
          "name": "stdout",
          "text": [
            "8\n"
          ]
        },
        {
          "output_type": "execute_result",
          "data": {
            "text/plain": [
              "<matplotlib.image.AxesImage at 0x7f65e94e3610>"
            ]
          },
          "metadata": {},
          "execution_count": 11
        },
        {
          "output_type": "display_data",
          "data": {
            "image/png": "[encoded data removed]",
            "text/plain": [
              "<Figure size 432x288 with 1 Axes>"
            ]
          },
          "metadata": {
            "needs_background": "light"
          }
        }
      ]
    },
    {
      "cell_type": "code",
      "source": [
        "# EXTERNAL\n",
        "img2 = rgb.copy()\n",
        "contours, hira = cv2.findContours (bw, cv2. RETR_EXTERNAL , cv2.CHAIN_APPROX_NONE)\n",
        "print(len(contours))\n",
        "i = 2 # 0-7\n",
        "cv2.drawContours (img2, contours,i, (0,255,0), thickness = 2)\n",
        "plt.imshow(img2)"
      ],
      "metadata": {
        "colab": {
          "base_uri": "https://localhost:8080/",
          "height": 276
        },
        "id": "j4nsZVYy5rLw",
        "outputId": "90a30d1c-a844-4161-a7a0-1c26974aae51"
      },
      "execution_count": 12,
      "outputs": [
        {
          "output_type": "stream",
          "name": "stdout",
          "text": [
            "3\n"
          ]
        },
        {
          "output_type": "execute_result",
          "data": {
            "text/plain": [
              "<matplotlib.image.AxesImage at 0x7f65e92bbbd0>"
            ]
          },
          "metadata": {},
          "execution_count": 12
        },
        {
          "output_type": "display_data",
          "data": {
            "image/png": "[encoded data removed]",
            "text/plain": [
              "<Figure size 432x288 with 1 Axes>"
            ]
          },
          "metadata": {
            "needs_background": "light"
          }
        }
      ]
    },
    {
      "cell_type": "code",
      "source": [
        "# CCOMP\n",
        "img2 = rgb.copy()\n",
        "contours, hira = cv2.findContours (bw, cv2. RETR_CCOMP, cv2.CHAIN_APPROX_NONE)\n",
        "print(len(contours))\n",
        "i = 7 # 0-7\n",
        "cv2. drawContours (img2, contours,i, (0,255,0), thickness = 2)\n",
        "plt.imshow(img2)"
      ],
      "metadata": {
        "colab": {
          "base_uri": "https://localhost:8080/",
          "height": 276
        },
        "id": "lIB4KaRC6VBg",
        "outputId": "dbee26e5-3974-4db6-83bf-00ecde7591e3"
      },
      "execution_count": 13,
      "outputs": [
        {
          "output_type": "stream",
          "name": "stdout",
          "text": [
            "8\n"
          ]
        },
        {
          "output_type": "execute_result",
          "data": {
            "text/plain": [
              "<matplotlib.image.AxesImage at 0x7f65e91d7950>"
            ]
          },
          "metadata": {},
          "execution_count": 13
        },
        {
          "output_type": "display_data",
          "data": {
            "image/png": "[encoded data removed]",
            "text/plain": [
              "<Figure size 432x288 with 1 Axes>"
            ]
          },
          "metadata": {
            "needs_background": "light"
          }
        }
      ]
    },
    {
      "cell_type": "code",
      "source": [
        "# TREE\n",
        "img2 = rgb.copy()\n",
        "contours, hira = cv2.findContours (bw, cv2. RETR_TREE, cv2.CHAIN_APPROX_NONE)\n",
        "print(len(contours))\n",
        "i = 7 # 0-7\n",
        "cv2. drawContours (img2, contours,i, (0,255,0), thickness = 2)\n",
        "plt.imshow(img2)"
      ],
      "metadata": {
        "colab": {
          "base_uri": "https://localhost:8080/",
          "height": 276
        },
        "id": "mqCZjPDv6ks4",
        "outputId": "25d5f4a1-6af7-44f5-f25d-0c9778aea4ee"
      },
      "execution_count": 14,
      "outputs": [
        {
          "output_type": "stream",
          "name": "stdout",
          "text": [
            "8\n"
          ]
        },
        {
          "output_type": "execute_result",
          "data": {
            "text/plain": [
              "<matplotlib.image.AxesImage at 0x7f65e90fcf50>"
            ]
          },
          "metadata": {},
          "execution_count": 14
        },
        {
          "output_type": "display_data",
          "data": {
            "image/png": "[encoded data removed]",
            "text/plain": [
              "<Figure size 432x288 with 1 Axes>"
            ]
          },
          "metadata": {
            "needs_background": "light"
          }
        }
      ]
    },
    {
      "cell_type": "code",
      "source": [
        ""
      ],
      "metadata": {
        "id": "LVA0d2G-6wmy"
      },
      "execution_count": 14,
      "outputs": []
    }
  ]
}