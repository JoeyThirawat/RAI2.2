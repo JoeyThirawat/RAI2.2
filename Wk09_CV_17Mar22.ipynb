{
  "nbformat": 4,
  "nbformat_minor": 0,
  "metadata": {
    "colab": {
      "name": "Wk09_CV_17Mar22.ipynb",
      "provenance": [],
      "authorship_tag": "ABX9TyPCiW7+G+rd7kd+CQFMwQRt",
      "include_colab_link": true
    },
    "kernelspec": {
      "name": "python3",
      "display_name": "Python 3"
    },
    "language_info": {
      "name": "python"
    }
  },
  "cells": [
    {
      "cell_type": "markdown",
      "metadata": {
        "id": "view-in-github",
        "colab_type": "text"
      },
      "source": [
        "<a href=\"https://colab.research.google.com/github/JoeyThirawat/RAI2.2-ComputerVisions/blob/main/Wk09_CV_17Mar22.ipynb\" target=\"_parent\"><img src=\"https://colab.research.google.com/assets/colab-badge.svg\" alt=\"Open In Colab\"/></a>"
      ]
    },
    {
      "cell_type": "code",
      "execution_count": 2,
      "metadata": {
        "id": "lz1RLYS53Ndr"
      },
      "outputs": [],
      "source": [
        "# Week09-Computer Visions-17 March 2022\n",
        "\n",
        "import cv2\n",
        "import numpy as np\n",
        "import matplotlib.pyplot as plt"
      ]
    },
    {
      "cell_type": "code",
      "source": [
        ""
      ],
      "metadata": {
        "id": "gw9c4WBV3h_U"
      },
      "execution_count": null,
      "outputs": []
    }
  ]
}